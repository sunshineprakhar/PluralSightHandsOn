{
 "cells": [
  {
   "cell_type": "code",
   "execution_count": 1,
   "metadata": {},
   "outputs": [],
   "source": [
    "#Function are object just like any other object\n",
    "# wether its list set or dictionary all are object"
   ]
  },
  {
   "cell_type": "code",
   "execution_count": 2,
   "metadata": {},
   "outputs": [],
   "source": [
    "def my_car(car):\n",
    "    print(\"My Car is {}\".format(car))"
   ]
  },
  {
   "cell_type": "code",
   "execution_count": 4,
   "metadata": {},
   "outputs": [
    {
     "name": "stdout",
     "output_type": "stream",
     "text": [
      "My Car is Audi\n"
     ]
    }
   ],
   "source": [
    "# Here on invovation this \"Audi\" string is assigned to car variable\n",
    "my_car(\"Audi\")"
   ]
  },
  {
   "cell_type": "code",
   "execution_count": 5,
   "metadata": {},
   "outputs": [
    {
     "data": {
      "text/plain": [
       "<function __main__.my_car(car)>"
      ]
     },
     "execution_count": 5,
     "metadata": {},
     "output_type": "execute_result"
    }
   ],
   "source": [
    "my_car #function this is located somewhere in the memory"
   ]
  },
  {
   "cell_type": "code",
   "execution_count": 6,
   "metadata": {},
   "outputs": [
    {
     "name": "stdout",
     "output_type": "stream",
     "text": [
      "My Car is Lamborgini\n"
     ]
    }
   ],
   "source": [
    "#we can assign this function to a variable easily as function is first class citizen in python\n",
    "my_var = my_car\n",
    "my_var(\"Lamborgini\")"
   ]
  },
  {
   "cell_type": "code",
   "execution_count": 10,
   "metadata": {},
   "outputs": [
    {
     "name": "stdout",
     "output_type": "stream",
     "text": [
      "6\n",
      "True\n"
     ]
    }
   ],
   "source": [
    "# we can assigned inbuilt function max to another variable\n",
    "maximum = max\n",
    "maximum_value = maximum(1,2,3,4,5,6)\n",
    "print(maximum_value)\n",
    "result = maximum == max\n",
    "print(result)"
   ]
  },
  {
   "cell_type": "code",
   "execution_count": null,
   "metadata": {},
   "outputs": [],
   "source": [
    "# return fucntion as argument"
   ]
  },
  {
   "cell_type": "code",
   "execution_count": 23,
   "metadata": {},
   "outputs": [],
   "source": [
    "def calculate_gst(price,type_of_item):\n",
    "    if type_of_item == \"Product\":\n",
    "        return price * 1.05\n",
    "    elif type_of_item == \"Services\":\n",
    "        return price * 1.18\n",
    "    else:\n",
    "        return price * 1.35\n",
    "    \n",
    "def calculate_vat(price,type_of_item):\n",
    "        return price * 1.12"
   ]
  },
  {
   "cell_type": "code",
   "execution_count": 24,
   "metadata": {},
   "outputs": [
    {
     "data": {
      "text/plain": [
       "1050.0"
      ]
     },
     "execution_count": 24,
     "metadata": {},
     "output_type": "execute_result"
    }
   ],
   "source": [
    "type_of_tax = calculate_gst\n",
    "type_of_tax(1000,'product'.capitalize())"
   ]
  },
  {
   "cell_type": "code",
   "execution_count": 25,
   "metadata": {},
   "outputs": [
    {
     "data": {
      "text/plain": [
       "1180.0"
      ]
     },
     "execution_count": 25,
     "metadata": {},
     "output_type": "execute_result"
    }
   ],
   "source": [
    "type_of_tax(1000,'services'.capitalize())"
   ]
  },
  {
   "cell_type": "code",
   "execution_count": 26,
   "metadata": {},
   "outputs": [
    {
     "data": {
      "text/plain": [
       "1120.0"
      ]
     },
     "execution_count": 26,
     "metadata": {},
     "output_type": "execute_result"
    }
   ],
   "source": [
    "type_of_tax = calculate_vat\n",
    "type_of_tax(1000,'product'.capitalize())"
   ]
  },
  {
   "cell_type": "code",
   "execution_count": 33,
   "metadata": {},
   "outputs": [
    {
     "name": "stdout",
     "output_type": "stream",
     "text": [
      "<function calculate_gst at 0x00000226D9EE08B0>\n",
      "<function calculate_vat at 0x00000226D9EE05E0>\n"
     ]
    }
   ],
   "source": [
    "def find_tax_calculator(type_of_tax):\n",
    "    if type_of_tax == \"GST\":\n",
    "        return calculate_gst\n",
    "    if type_of_tax == \"VAT\":\n",
    "        return calculate_vat\n",
    "    \n",
    "gst_fn = find_tax_calculator(\"GST\")\n",
    "print(gst_fn)\n",
    "\n",
    "\n",
    "vat_fn = find_tax_calculator(\"VAT\")\n",
    "print(vat_fn)"
   ]
  },
  {
   "cell_type": "code",
   "execution_count": null,
   "metadata": {},
   "outputs": [],
   "source": []
  }
 ],
 "metadata": {
  "kernelspec": {
   "display_name": "Python 3",
   "language": "python",
   "name": "python3"
  },
  "language_info": {
   "codemirror_mode": {
    "name": "ipython",
    "version": 3
   },
   "file_extension": ".py",
   "mimetype": "text/x-python",
   "name": "python",
   "nbconvert_exporter": "python",
   "pygments_lexer": "ipython3",
   "version": "3.8.5"
  }
 },
 "nbformat": 4,
 "nbformat_minor": 4
}
