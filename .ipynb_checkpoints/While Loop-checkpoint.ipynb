{
 "cells": [
  {
   "cell_type": "code",
   "execution_count": 2,
   "metadata": {},
   "outputs": [],
   "source": [
    "while False:\n",
    "    print(\"prakhar\")"
   ]
  },
  {
   "cell_type": "code",
   "execution_count": null,
   "metadata": {},
   "outputs": [],
   "source": [
    "# In while loop you have to ensure termination condition are met\n",
    "# otherwise\n",
    "\n",
    "while True:\n",
    "    print(\"Infinite Loop\")"
   ]
  },
  {
   "cell_type": "code",
   "execution_count": 4,
   "metadata": {},
   "outputs": [
    {
     "name": "stdout",
     "output_type": "stream",
     "text": [
      "45\n",
      "46\n",
      "47\n",
      "48\n",
      "49\n"
     ]
    }
   ],
   "source": [
    "c = 45\n",
    "while c < 50:\n",
    "        print(c)\n",
    "        c = c + 1"
   ]
  },
  {
   "cell_type": "code",
   "execution_count": 6,
   "metadata": {},
   "outputs": [
    {
     "data": {
      "text/plain": [
       "50"
      ]
     },
     "execution_count": 6,
     "metadata": {},
     "output_type": "execute_result"
    }
   ],
   "source": [
    "c"
   ]
  },
  {
   "cell_type": "code",
   "execution_count": 11,
   "metadata": {},
   "outputs": [
    {
     "name": "stdout",
     "output_type": "stream",
     "text": [
      "Value 5 is positive\n",
      "Value 4 is positive\n",
      "Value 3 is positive\n",
      "Value 2 is positive\n",
      "Value 1 is positive\n"
     ]
    }
   ],
   "source": [
    "p = 5\n",
    "\n",
    "while p:\n",
    "    print(\"Value {} is positive\".format(p))\n",
    "    p -= 1"
   ]
  },
  {
   "cell_type": "code",
   "execution_count": 12,
   "metadata": {},
   "outputs": [
    {
     "data": {
      "text/plain": [
       "0"
      ]
     },
     "execution_count": 12,
     "metadata": {},
     "output_type": "execute_result"
    }
   ],
   "source": [
    "p"
   ]
  },
  {
   "cell_type": "code",
   "execution_count": null,
   "metadata": {},
   "outputs": [
    {
     "name": "stdout",
     "output_type": "stream",
     "text": [
      "Please enter my name: kanha\n",
      "Hey, Wrong guess..Try Again: gudiya\n",
      "Hey, Wrong guess..Try Again: nayan\n",
      "Hey, Wrong guess..Try Again: wha\n",
      "Hey, Wrong guess..Try Again: who\n"
     ]
    }
   ],
   "source": [
    "name = input(\"Please enter my name: \")\n",
    "\n",
    "while name not in ['Prakhar','Nayan','prakhar']:\n",
    "    name = input(\"Hey, Wrong guess..Try Again: \")\n",
    "    \n",
    "print(\"That's Right\")"
   ]
  },
  {
   "cell_type": "code",
   "execution_count": null,
   "metadata": {},
   "outputs": [],
   "source": []
  }
 ],
 "metadata": {
  "kernelspec": {
   "display_name": "Python 3",
   "language": "python",
   "name": "python3"
  }
 },
 "nbformat": 4,
 "nbformat_minor": 4
}
