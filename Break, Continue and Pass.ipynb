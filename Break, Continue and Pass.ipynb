{
 "cells": [
  {
   "cell_type": "code",
   "execution_count": null,
   "metadata": {},
   "outputs": [],
   "source": [
    "#break stop current loop"
   ]
  },
  {
   "cell_type": "code",
   "execution_count": 1,
   "metadata": {},
   "outputs": [],
   "source": [
    "classic_cars = ['Pierce Arrow','oldsmobile','Mustang','corvette','Alpha romeo sundar']"
   ]
  },
  {
   "cell_type": "code",
   "execution_count": 4,
   "metadata": {},
   "outputs": [
    {
     "name": "stdout",
     "output_type": "stream",
     "text": [
      "Pierce Arrow\n",
      "oldsmobile\n",
      "Mustang\n",
      "This is my favourite car: corvette\n"
     ]
    }
   ],
   "source": [
    "#As soon as python encounter the break command it comes out the for loop\n",
    "for car in classic_cars:\n",
    "    if car == \"corvette\":\n",
    "        print(\"This is my favourite car: {}\".format(car))\n",
    "        break;\n",
    "    print(car)"
   ]
  },
  {
   "cell_type": "code",
   "execution_count": 7,
   "metadata": {},
   "outputs": [
    {
     "name": "stdout",
     "output_type": "stream",
     "text": [
      "Pierce Arrow\n",
      "oldsmobile\n",
      "Mustang\n",
      "Alpha romeo sundar\n"
     ]
    }
   ],
   "source": [
    "#As soon as python encounter the continue command it skip the current iteration and continue from the next iteration\n",
    "for car in classic_cars:\n",
    "    if car == \"corvette\":\n",
    "        continue\n",
    "    print(car)"
   ]
  },
  {
   "cell_type": "code",
   "execution_count": 10,
   "metadata": {},
   "outputs": [
    {
     "name": "stdout",
     "output_type": "stream",
     "text": [
      "1\n",
      "3\n",
      "5\n",
      "7\n",
      "9\n"
     ]
    }
   ],
   "source": [
    "#Program to print odd numbers\n",
    "for i in range(10):\n",
    "    if(i%2 == 0):\n",
    "        continue\n",
    "    print(i)"
   ]
  },
  {
   "cell_type": "code",
   "execution_count": 3,
   "metadata": {},
   "outputs": [
    {
     "name": "stdout",
     "output_type": "stream",
     "text": [
      "10\n",
      "11\n",
      "12\n",
      "Inside Continue so it will skip the current iteration\n",
      "Inside Continue so it will skip the current iteration\n",
      "Inside Continue so it will skip the current iteration\n",
      "Inside Continue so it will skip the current iteration\n",
      "17\n",
      "18\n",
      "19\n",
      "20\n"
     ]
    }
   ],
   "source": [
    "for i in range(10,21):\n",
    "    if i>=13 and i<=16:\n",
    "        print(\"Inside Continue so it will skip the current iteration\")\n",
    "        continue\n",
    "    else:\n",
    "        print(i)"
   ]
  },
  {
   "cell_type": "code",
   "execution_count": 4,
   "metadata": {},
   "outputs": [
    {
     "name": "stdout",
     "output_type": "stream",
     "text": [
      "10\n",
      "11\n",
      "12\n",
      "Inside Continue so it will stop the current iteration\n"
     ]
    }
   ],
   "source": [
    "for i in range(10,21):\n",
    "    if i>=13 and i<=16:\n",
    "        print(\"Inside Continue so it will stop the current iteration\")\n",
    "        break\n",
    "    else:\n",
    "        print(i)"
   ]
  },
  {
   "cell_type": "code",
   "execution_count": 5,
   "metadata": {},
   "outputs": [
    {
     "name": "stdout",
     "output_type": "stream",
     "text": [
      "10\n",
      "11\n",
      "12\n",
      "17\n",
      "18\n",
      "19\n",
      "20\n"
     ]
    }
   ],
   "source": [
    "for i in range(10,21):\n",
    "    if i>=13 and i<=16:\n",
    "        pass  #Its just like No operation\n",
    "    else:\n",
    "        print(i)"
   ]
  },
  {
   "cell_type": "code",
   "execution_count": null,
   "metadata": {},
   "outputs": [],
   "source": []
  }
 ],
 "metadata": {
  "kernelspec": {
   "display_name": "Python 3",
   "language": "python",
   "name": "python3"
  },
  "language_info": {
   "codemirror_mode": {
    "name": "ipython",
    "version": 3
   },
   "file_extension": ".py",
   "mimetype": "text/x-python",
   "name": "python",
   "nbconvert_exporter": "python",
   "pygments_lexer": "ipython3",
   "version": "3.8.5"
  }
 },
 "nbformat": 4,
 "nbformat_minor": 4
}
