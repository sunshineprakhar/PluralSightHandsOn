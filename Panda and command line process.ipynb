{
 "cells": [
  {
   "cell_type": "code",
   "execution_count": 8,
   "metadata": {},
   "outputs": [],
   "source": [
    "import pandas as pd"
   ]
  },
  {
   "cell_type": "code",
   "execution_count": 16,
   "metadata": {},
   "outputs": [],
   "source": [
    "#Main structure within pandas are dataframe\n",
    "#Dataframe is an object that has rows and columns and is used to holds the data in the form of tables\n",
    "#array must aLL be same length\n",
    "\n",
    "df = pd.DataFrame({\n",
    "    \"name\" : [\"prakhar\",\"prankur\",\"pragya\"],\n",
    "    \"gender\": [\"Male\",\"Male\",\"Female\"],\n",
    "    \"age\": [45,20,30],\n",
    "})"
   ]
  },
  {
   "cell_type": "code",
   "execution_count": 17,
   "metadata": {},
   "outputs": [
    {
     "data": {
      "text/html": [
       "<div>\n",
       "<style scoped>\n",
       "    .dataframe tbody tr th:only-of-type {\n",
       "        vertical-align: middle;\n",
       "    }\n",
       "\n",
       "    .dataframe tbody tr th {\n",
       "        vertical-align: top;\n",
       "    }\n",
       "\n",
       "    .dataframe thead th {\n",
       "        text-align: right;\n",
       "    }\n",
       "</style>\n",
       "<table border=\"1\" class=\"dataframe\">\n",
       "  <thead>\n",
       "    <tr style=\"text-align: right;\">\n",
       "      <th></th>\n",
       "      <th>age</th>\n",
       "    </tr>\n",
       "  </thead>\n",
       "  <tbody>\n",
       "    <tr>\n",
       "      <th>count</th>\n",
       "      <td>3.000000</td>\n",
       "    </tr>\n",
       "    <tr>\n",
       "      <th>mean</th>\n",
       "      <td>31.666667</td>\n",
       "    </tr>\n",
       "    <tr>\n",
       "      <th>std</th>\n",
       "      <td>12.583057</td>\n",
       "    </tr>\n",
       "    <tr>\n",
       "      <th>min</th>\n",
       "      <td>20.000000</td>\n",
       "    </tr>\n",
       "    <tr>\n",
       "      <th>25%</th>\n",
       "      <td>25.000000</td>\n",
       "    </tr>\n",
       "    <tr>\n",
       "      <th>50%</th>\n",
       "      <td>30.000000</td>\n",
       "    </tr>\n",
       "    <tr>\n",
       "      <th>75%</th>\n",
       "      <td>37.500000</td>\n",
       "    </tr>\n",
       "    <tr>\n",
       "      <th>max</th>\n",
       "      <td>45.000000</td>\n",
       "    </tr>\n",
       "  </tbody>\n",
       "</table>\n",
       "</div>"
      ],
      "text/plain": [
       "             age\n",
       "count   3.000000\n",
       "mean   31.666667\n",
       "std    12.583057\n",
       "min    20.000000\n",
       "25%    25.000000\n",
       "50%    30.000000\n",
       "75%    37.500000\n",
       "max    45.000000"
      ]
     },
     "execution_count": 17,
     "metadata": {},
     "output_type": "execute_result"
    }
   ],
   "source": [
    "df.describe()"
   ]
  },
  {
   "cell_type": "code",
   "execution_count": 21,
   "metadata": {},
   "outputs": [
    {
     "data": {
      "text/html": [
       "<div>\n",
       "<style scoped>\n",
       "    .dataframe tbody tr th:only-of-type {\n",
       "        vertical-align: middle;\n",
       "    }\n",
       "\n",
       "    .dataframe tbody tr th {\n",
       "        vertical-align: top;\n",
       "    }\n",
       "\n",
       "    .dataframe thead th {\n",
       "        text-align: right;\n",
       "    }\n",
       "</style>\n",
       "<table border=\"1\" class=\"dataframe\">\n",
       "  <thead>\n",
       "    <tr style=\"text-align: right;\">\n",
       "      <th></th>\n",
       "      <th>name</th>\n",
       "      <th>age</th>\n",
       "    </tr>\n",
       "  </thead>\n",
       "  <tbody>\n",
       "    <tr>\n",
       "      <th>0</th>\n",
       "      <td>prakhar</td>\n",
       "      <td>45</td>\n",
       "    </tr>\n",
       "    <tr>\n",
       "      <th>1</th>\n",
       "      <td>prankur</td>\n",
       "      <td>20</td>\n",
       "    </tr>\n",
       "    <tr>\n",
       "      <th>2</th>\n",
       "      <td>pragya</td>\n",
       "      <td>30</td>\n",
       "    </tr>\n",
       "  </tbody>\n",
       "</table>\n",
       "</div>"
      ],
      "text/plain": [
       "      name  age\n",
       "0  prakhar   45\n",
       "1  prankur   20\n",
       "2   pragya   30"
      ]
     },
     "execution_count": 21,
     "metadata": {},
     "output_type": "execute_result"
    }
   ],
   "source": [
    "# we can take the column in which we are interested\n",
    "\n",
    "subset_df = df[['name','age']]\n",
    "subset_df"
   ]
  },
  {
   "cell_type": "code",
   "execution_count": 23,
   "metadata": {},
   "outputs": [
    {
     "data": {
      "text/html": [
       "<div>\n",
       "<style scoped>\n",
       "    .dataframe tbody tr th:only-of-type {\n",
       "        vertical-align: middle;\n",
       "    }\n",
       "\n",
       "    .dataframe tbody tr th {\n",
       "        vertical-align: top;\n",
       "    }\n",
       "\n",
       "    .dataframe thead th {\n",
       "        text-align: right;\n",
       "    }\n",
       "</style>\n",
       "<table border=\"1\" class=\"dataframe\">\n",
       "  <thead>\n",
       "    <tr style=\"text-align: right;\">\n",
       "      <th></th>\n",
       "      <th>name</th>\n",
       "    </tr>\n",
       "    <tr>\n",
       "      <th>gender</th>\n",
       "      <th></th>\n",
       "    </tr>\n",
       "  </thead>\n",
       "  <tbody>\n",
       "    <tr>\n",
       "      <th>Female</th>\n",
       "      <td>1</td>\n",
       "    </tr>\n",
       "    <tr>\n",
       "      <th>Male</th>\n",
       "      <td>2</td>\n",
       "    </tr>\n",
       "  </tbody>\n",
       "</table>\n",
       "</div>"
      ],
      "text/plain": [
       "        name\n",
       "gender      \n",
       "Female     1\n",
       "Male       2"
      ]
     },
     "execution_count": 23,
     "metadata": {},
     "output_type": "execute_result"
    }
   ],
   "source": [
    "groupby_df = df[[\"name\",\"gender\"]].groupby(by=\"gender\").count()\n",
    "\n",
    "groupby_df"
   ]
  },
  {
   "cell_type": "code",
   "execution_count": 33,
   "metadata": {},
   "outputs": [],
   "source": [
    "import os"
   ]
  },
  {
   "cell_type": "code",
   "execution_count": 34,
   "metadata": {},
   "outputs": [
    {
     "ename": "KeyError",
     "evalue": "'USER'",
     "output_type": "error",
     "traceback": [
      "\u001b[1;31m---------------------------------------------------------------------------\u001b[0m",
      "\u001b[1;31mKeyError\u001b[0m                                  Traceback (most recent call last)",
      "\u001b[1;32m<ipython-input-34-25e4831a4f60>\u001b[0m in \u001b[0;36m<module>\u001b[1;34m\u001b[0m\n\u001b[1;32m----> 1\u001b[1;33m \u001b[0mos\u001b[0m\u001b[1;33m.\u001b[0m\u001b[0menviron\u001b[0m\u001b[1;33m[\u001b[0m\u001b[1;34m'USER'\u001b[0m\u001b[1;33m]\u001b[0m\u001b[1;33m\u001b[0m\u001b[1;33m\u001b[0m\u001b[0m\n\u001b[0m",
      "\u001b[1;32m~\\anaconda3\\lib\\os.py\u001b[0m in \u001b[0;36m__getitem__\u001b[1;34m(self, key)\u001b[0m\n\u001b[0;32m    673\u001b[0m         \u001b[1;32mexcept\u001b[0m \u001b[0mKeyError\u001b[0m\u001b[1;33m:\u001b[0m\u001b[1;33m\u001b[0m\u001b[1;33m\u001b[0m\u001b[0m\n\u001b[0;32m    674\u001b[0m             \u001b[1;31m# raise KeyError with the original key value\u001b[0m\u001b[1;33m\u001b[0m\u001b[1;33m\u001b[0m\u001b[1;33m\u001b[0m\u001b[0m\n\u001b[1;32m--> 675\u001b[1;33m             \u001b[1;32mraise\u001b[0m \u001b[0mKeyError\u001b[0m\u001b[1;33m(\u001b[0m\u001b[0mkey\u001b[0m\u001b[1;33m)\u001b[0m \u001b[1;32mfrom\u001b[0m \u001b[1;32mNone\u001b[0m\u001b[1;33m\u001b[0m\u001b[1;33m\u001b[0m\u001b[0m\n\u001b[0m\u001b[0;32m    676\u001b[0m         \u001b[1;32mreturn\u001b[0m \u001b[0mself\u001b[0m\u001b[1;33m.\u001b[0m\u001b[0mdecodevalue\u001b[0m\u001b[1;33m(\u001b[0m\u001b[0mvalue\u001b[0m\u001b[1;33m)\u001b[0m\u001b[1;33m\u001b[0m\u001b[1;33m\u001b[0m\u001b[0m\n\u001b[0;32m    677\u001b[0m \u001b[1;33m\u001b[0m\u001b[0m\n",
      "\u001b[1;31mKeyError\u001b[0m: 'USER'"
     ]
    }
   ],
   "source": [
    "os.environ['USER']"
   ]
  },
  {
   "cell_type": "code",
   "execution_count": 35,
   "metadata": {},
   "outputs": [],
   "source": [
    "#os.getcwd()  -  this will return my current working directory\n",
    "# this is to create new working directory\n",
    "\n",
    "os.environ['DATASETS'] = os.getcwd() + \"/datasets\""
   ]
  },
  {
   "cell_type": "code",
   "execution_count": 36,
   "metadata": {},
   "outputs": [
    {
     "data": {
      "text/plain": [
       "'C:\\\\Users\\\\HP\\\\Desktop\\\\Prakhar\\\\Jupyter\\\\Plural Sight/datasets'"
      ]
     },
     "execution_count": 36,
     "metadata": {},
     "output_type": "execute_result"
    }
   ],
   "source": [
    "os.environ['DATASETS']"
   ]
  },
  {
   "cell_type": "code",
   "execution_count": 37,
   "metadata": {},
   "outputs": [
    {
     "data": {
      "text/plain": [
       "'C:\\\\Users\\\\HP\\\\Desktop\\\\Prakhar\\\\Jupyter\\\\Plural Sight'"
      ]
     },
     "execution_count": 37,
     "metadata": {},
     "output_type": "execute_result"
    }
   ],
   "source": [
    "os.getcwd()\n"
   ]
  },
  {
   "cell_type": "code",
   "execution_count": 38,
   "metadata": {},
   "outputs": [
    {
     "data": {
      "text/plain": [
       "environ{'ALLUSERSPROFILE': 'C:\\\\ProgramData',\n",
       "        'APPDATA': 'C:\\\\Users\\\\HP\\\\AppData\\\\Roaming',\n",
       "        'COMMONPROGRAMFILES': 'C:\\\\Program Files\\\\Common Files',\n",
       "        'COMMONPROGRAMFILES(X86)': 'C:\\\\Program Files (x86)\\\\Common Files',\n",
       "        'COMMONPROGRAMW6432': 'C:\\\\Program Files\\\\Common Files',\n",
       "        'COMPUTERNAME': 'DESKTOP-B1JKMQ0',\n",
       "        'COMSPEC': 'C:\\\\Windows\\\\system32\\\\cmd.exe',\n",
       "        'DRIVERDATA': 'C:\\\\Windows\\\\System32\\\\Drivers\\\\DriverData',\n",
       "        'HOMEDRIVE': 'C:',\n",
       "        'HOMEPATH': '\\\\Users\\\\HP',\n",
       "        'LOCALAPPDATA': 'C:\\\\Users\\\\HP\\\\AppData\\\\Local',\n",
       "        'LOGONSERVER': '\\\\\\\\DESKTOP-B1JKMQ0',\n",
       "        'NUMBER_OF_PROCESSORS': '4',\n",
       "        'ONEDRIVE': 'C:\\\\Users\\\\HP\\\\OneDrive',\n",
       "        'ONEDRIVECONSUMER': 'C:\\\\Users\\\\HP\\\\OneDrive',\n",
       "        'OS': 'Windows_NT',\n",
       "        'PATH': 'C:\\\\Users\\\\HP\\\\anaconda3;C:\\\\Users\\\\HP\\\\anaconda3\\\\Library\\\\mingw-w64\\\\bin;C:\\\\Users\\\\HP\\\\anaconda3\\\\Library\\\\usr\\\\bin;C:\\\\Users\\\\HP\\\\anaconda3\\\\Library\\\\bin;C:\\\\Users\\\\HP\\\\anaconda3\\\\Scripts;C:\\\\Windows\\\\system32;C:\\\\Windows;C:\\\\Windows\\\\System32\\\\Wbem;C:\\\\Windows\\\\System32\\\\WindowsPowerShell\\\\v1.0\\\\;C:\\\\Windows\\\\System32\\\\OpenSSH\\\\;C:\\\\Users\\\\HP\\\\anaconda3;C:\\\\Users\\\\HP\\\\anaconda3\\\\Library\\\\mingw-w64\\\\bin;C:\\\\Users\\\\HP\\\\anaconda3\\\\Library\\\\usr\\\\bin;C:\\\\Users\\\\HP\\\\anaconda3\\\\Library\\\\bin;C:\\\\Users\\\\HP\\\\anaconda3\\\\Scripts;C:\\\\Users\\\\HP\\\\AppData\\\\Local\\\\Microsoft\\\\WindowsApps;C:\\\\Users\\\\HP\\\\Desktop\\\\Prakhar\\\\Latex_prakhar_agrawal\\\\miktex\\\\bin\\\\x64\\\\',\n",
       "        'PATHEXT': '.COM;.EXE;.BAT;.CMD;.VBS;.VBE;.JS;.JSE;.WSF;.WSH;.MSC',\n",
       "        'PROCESSOR_ARCHITECTURE': 'AMD64',\n",
       "        'PROCESSOR_IDENTIFIER': 'Intel64 Family 6 Model 61 Stepping 4, GenuineIntel',\n",
       "        'PROCESSOR_LEVEL': '6',\n",
       "        'PROCESSOR_REVISION': '3d04',\n",
       "        'PROGRAMDATA': 'C:\\\\ProgramData',\n",
       "        'PROGRAMFILES': 'C:\\\\Program Files',\n",
       "        'PROGRAMFILES(X86)': 'C:\\\\Program Files (x86)',\n",
       "        'PROGRAMW6432': 'C:\\\\Program Files',\n",
       "        'PSMODULEPATH': 'C:\\\\Program Files\\\\WindowsPowerShell\\\\Modules;C:\\\\Windows\\\\system32\\\\WindowsPowerShell\\\\v1.0\\\\Modules',\n",
       "        'PUBLIC': 'C:\\\\Users\\\\Public',\n",
       "        'SESSIONNAME': 'Console',\n",
       "        'SYSTEMDRIVE': 'C:',\n",
       "        'SYSTEMROOT': 'C:\\\\Windows',\n",
       "        'TEMP': 'C:\\\\Users\\\\HP\\\\AppData\\\\Local\\\\Temp',\n",
       "        'TMP': 'C:\\\\Users\\\\HP\\\\AppData\\\\Local\\\\Temp',\n",
       "        'USERDOMAIN': 'DESKTOP-B1JKMQ0',\n",
       "        'USERDOMAIN_ROAMINGPROFILE': 'DESKTOP-B1JKMQ0',\n",
       "        'USERNAME': 'HP',\n",
       "        'USERPROFILE': 'C:\\\\Users\\\\HP',\n",
       "        'WINDIR': 'C:\\\\Windows',\n",
       "        'CONDA_PREFIX': 'C:\\\\Users\\\\HP\\\\anaconda3',\n",
       "        'JPY_INTERRUPT_EVENT': '2108',\n",
       "        'IPY_INTERRUPT_EVENT': '2108',\n",
       "        'JPY_PARENT_PID': '2348',\n",
       "        'TERM': 'xterm-color',\n",
       "        'CLICOLOR': '1',\n",
       "        'PAGER': 'cat',\n",
       "        'GIT_PAGER': 'cat',\n",
       "        'MPLBACKEND': 'module://ipykernel.pylab.backend_inline',\n",
       "        'DATASETS': 'C:\\\\Users\\\\HP\\\\Desktop\\\\Prakhar\\\\Jupyter\\\\Plural Sight/datasets'}"
      ]
     },
     "execution_count": 38,
     "metadata": {},
     "output_type": "execute_result"
    }
   ],
   "source": [
    "os.environ"
   ]
  },
  {
   "cell_type": "code",
   "execution_count": 40,
   "metadata": {},
   "outputs": [
    {
     "name": "stdout",
     "output_type": "stream",
     "text": [
      " Volume in drive C is Windows\n",
      " Volume Serial Number is 4ADA-A905\n",
      "\n",
      " Directory of C:\\Users\\HP\\Desktop\\Prakhar\\Jupyter\\Plural Sight\n",
      "\n",
      "11-03-2021  09:40    <DIR>          .\n",
      "11-03-2021  09:40    <DIR>          ..\n",
      "11-03-2021  09:16    <DIR>          .ipynb_checkpoints\n",
      "08-03-2021  20:13             4,128 Basic Types In Python & Strings.ipynb\n",
      "09-03-2021  17:06             4,213 Break, Continue and Pass.ipynb\n",
      "08-03-2021  20:45            12,315 BuiltInFunction.ipynb\n",
      "09-03-2021  10:39             5,536 Dictionary.ipynb\n",
      "09-03-2021  19:58             4,937 First Class Function.ipynb\n",
      "09-03-2021  10:27             6,074 For loops.ipynb\n",
      "09-03-2021  19:29            12,861 Function HandsOn.ipynb\n",
      "09-03-2021  08:01             1,721 IfElse.ipynb\n",
      "09-03-2021  20:05             4,165 Importing Modules.ipynb\n",
      "09-03-2021  07:16            12,321 List.ipynb\n",
      "08-03-2021  19:02             6,244 Logic Operation.ipynb\n",
      "09-03-2021  21:49             6,513 Numpy.ipynb\n",
      "11-03-2021  09:40             9,764 Panda.ipynb\n",
      "08-03-2021  18:54             7,402 SimpleExpressions.ipynb\n",
      "09-03-2021  07:25             4,588 Tuples.ipynb\n",
      "08-03-2021  19:55             3,011 Variables.ipynb\n",
      "09-03-2021  11:08             2,803 While Loop.ipynb\n",
      "              17 File(s)        108,596 bytes\n",
      "               3 Dir(s)  445,836,345,344 bytes free\n"
     ]
    }
   ],
   "source": [
    "%ls"
   ]
  },
  {
   "cell_type": "code",
   "execution_count": 41,
   "metadata": {},
   "outputs": [
    {
     "name": "stdout",
     "output_type": "stream",
     "text": [
      " Volume in drive C is Windows\n",
      " Volume Serial Number is 4ADA-A905\n",
      "\n",
      " Directory of C:\\Users\\HP\\Desktop\\Prakhar\\Jupyter\\Plural Sight\n",
      "\n"
     ]
    },
    {
     "name": "stderr",
     "output_type": "stream",
     "text": [
      "File Not Found\n"
     ]
    }
   ],
   "source": [
    "%ls -l"
   ]
  },
  {
   "cell_type": "code",
   "execution_count": 42,
   "metadata": {},
   "outputs": [
    {
     "name": "stdout",
     "output_type": "stream",
     "text": [
      " Volume in drive C is Windows\n",
      " Volume Serial Number is 4ADA-A905\n",
      "\n",
      " Directory of C:\\Users\\HP\\Desktop\\Prakhar\\Jupyter\\Plural Sight\n",
      "\n"
     ]
    },
    {
     "name": "stderr",
     "output_type": "stream",
     "text": [
      "File Not Found\n"
     ]
    }
   ],
   "source": [
    "%ls -l"
   ]
  },
  {
   "cell_type": "code",
   "execution_count": 43,
   "metadata": {},
   "outputs": [
    {
     "name": "stderr",
     "output_type": "stream",
     "text": [
      "UsageError: Line magic function `%cat` not found.\n"
     ]
    }
   ],
   "source": [
    "%cat numpy.txt"
   ]
  },
  {
   "cell_type": "code",
   "execution_count": 44,
   "metadata": {},
   "outputs": [
    {
     "name": "stderr",
     "output_type": "stream",
     "text": [
      "'ls' is not recognized as an internal or external command,\n",
      "operable program or batch file.\n"
     ]
    }
   ],
   "source": [
    "!ls -l"
   ]
  },
  {
   "cell_type": "code",
   "execution_count": 48,
   "metadata": {},
   "outputs": [],
   "source": [
    "# this is we have to use when we are using unix command in jupyter notebook in window\n",
    "\n",
    "conda install posix"
   ]
  },
  {
   "cell_type": "code",
   "execution_count": 46,
   "metadata": {},
   "outputs": [
    {
     "name": "stdout",
     "output_type": "stream",
     "text": [
      "Basic Types In Python & Strings.ipynb\n",
      "Break, Continue and Pass.ipynb\n",
      "BuiltInFunction.ipynb\n",
      "Dictionary.ipynb\n",
      "First Class Function.ipynb\n",
      "For loops.ipynb\n",
      "Function HandsOn.ipynb\n",
      "IfElse.ipynb\n",
      "Importing Modules.ipynb\n",
      "List.ipynb\n",
      "Logic Operation.ipynb\n",
      "Numpy.ipynb\n",
      "Panda.ipynb\n",
      "SimpleExpressions.ipynb\n",
      "Tuples.ipynb\n",
      "Variables.ipynb\n",
      "While Loop.ipynb\n"
     ]
    }
   ],
   "source": [
    "!ls"
   ]
  },
  {
   "cell_type": "code",
   "execution_count": 47,
   "metadata": {},
   "outputs": [
    {
     "name": "stdout",
     "output_type": "stream",
     "text": [
      "total 160\n",
      " 8 -rw-r--r-- 1 HP None  4128 Mar  8 20:13 Basic Types In Python & Strings.ipynb\n",
      " 8 -rw-r--r-- 1 HP None  4213 Mar  9 17:06 Break, Continue and Pass.ipynb\n",
      "16 -rw-r--r-- 1 HP None 12315 Mar  8 20:45 BuiltInFunction.ipynb\n",
      " 8 -rw-r--r-- 1 HP None  5536 Mar  9 10:39 Dictionary.ipynb\n",
      " 8 -rw-r--r-- 1 HP None  4937 Mar  9 19:58 First Class Function.ipynb\n",
      " 8 -rw-r--r-- 1 HP None  6074 Mar  9 10:27 For loops.ipynb\n",
      "16 -rw-r--r-- 1 HP None 12861 Mar  9 19:29 Function HandsOn.ipynb\n",
      " 4 -rw-r--r-- 1 HP None  1721 Mar  9 08:01 IfElse.ipynb\n",
      " 8 -rw-r--r-- 1 HP None  4165 Mar  9 20:05 Importing Modules.ipynb\n",
      "16 -rw-r--r-- 1 HP None 12321 Mar  9 07:16 List.ipynb\n",
      " 8 -rw-r--r-- 1 HP None  6244 Mar  8 19:02 Logic Operation.ipynb\n",
      " 8 -rw-r--r-- 1 HP None  6513 Mar  9 21:49 Numpy.ipynb\n",
      "20 -rw-r--r-- 1 HP None 17475 Mar 11 10:34 Panda.ipynb\n",
      " 8 -rw-r--r-- 1 HP None  7402 Mar  8 18:54 SimpleExpressions.ipynb\n",
      " 8 -rw-r--r-- 1 HP None  4588 Mar  9 07:25 Tuples.ipynb\n",
      " 4 -rw-r--r-- 1 HP None  3011 Mar  8 19:55 Variables.ipynb\n",
      " 4 -rw-r--r-- 1 HP None  2803 Mar  9 11:08 While Loop.ipynb\n"
     ]
    }
   ],
   "source": [
    "!ls -ls"
   ]
  },
  {
   "cell_type": "code",
   "execution_count": 49,
   "metadata": {},
   "outputs": [
    {
     "name": "stdout",
     "output_type": "stream",
     "text": [
      "total 160\n",
      "-rw-r--r-- 1 HP None  4128 Mar  8 20:13 Basic Types In Python & Strings.ipynb\n",
      "-rw-r--r-- 1 HP None  4213 Mar  9 17:06 Break, Continue and Pass.ipynb\n",
      "-rw-r--r-- 1 HP None 12315 Mar  8 20:45 BuiltInFunction.ipynb\n",
      "-rw-r--r-- 1 HP None  5536 Mar  9 10:39 Dictionary.ipynb\n",
      "-rw-r--r-- 1 HP None  4937 Mar  9 19:58 First Class Function.ipynb\n",
      "-rw-r--r-- 1 HP None  6074 Mar  9 10:27 For loops.ipynb\n",
      "-rw-r--r-- 1 HP None 12861 Mar  9 19:29 Function HandsOn.ipynb\n",
      "-rw-r--r-- 1 HP None  1721 Mar  9 08:01 IfElse.ipynb\n",
      "-rw-r--r-- 1 HP None  4165 Mar  9 20:05 Importing Modules.ipynb\n",
      "-rw-r--r-- 1 HP None 12321 Mar  9 07:16 List.ipynb\n",
      "-rw-r--r-- 1 HP None  6244 Mar  8 19:02 Logic Operation.ipynb\n",
      "-rw-r--r-- 1 HP None  6513 Mar  9 21:49 Numpy.ipynb\n",
      "-rw-r--r-- 1 HP None 17475 Mar 11 10:34 Panda.ipynb\n",
      "-rw-r--r-- 1 HP None  7402 Mar  8 18:54 SimpleExpressions.ipynb\n",
      "-rw-r--r-- 1 HP None  4588 Mar  9 07:25 Tuples.ipynb\n",
      "-rw-r--r-- 1 HP None  3011 Mar  8 19:55 Variables.ipynb\n",
      "-rw-r--r-- 1 HP None  2803 Mar  9 11:08 While Loop.ipynb\n"
     ]
    }
   ],
   "source": [
    "!ls -l"
   ]
  },
  {
   "cell_type": "code",
   "execution_count": 50,
   "metadata": {},
   "outputs": [
    {
     "data": {
      "text/plain": [
       "['.ipynb_checkpoints',\n",
       " 'Basic Types In Python & Strings.ipynb',\n",
       " 'Break, Continue and Pass.ipynb',\n",
       " 'BuiltInFunction.ipynb',\n",
       " 'Dictionary.ipynb',\n",
       " 'First Class Function.ipynb',\n",
       " 'For loops.ipynb',\n",
       " 'Function HandsOn.ipynb',\n",
       " 'IfElse.ipynb',\n",
       " 'Importing Modules.ipynb',\n",
       " 'List.ipynb',\n",
       " 'Logic Operation.ipynb',\n",
       " 'Numpy.ipynb',\n",
       " 'Panda and command line process.ipynb',\n",
       " 'SimpleExpressions.ipynb',\n",
       " 'Tuples.ipynb',\n",
       " 'Variables.ipynb',\n",
       " 'While Loop.ipynb']"
      ]
     },
     "execution_count": 50,
     "metadata": {},
     "output_type": "execute_result"
    }
   ],
   "source": [
    "os.listdir()"
   ]
  },
  {
   "cell_type": "code",
   "execution_count": 51,
   "metadata": {
    "scrolled": false
   },
   "outputs": [
    {
     "name": "stderr",
     "output_type": "stream",
     "text": [
      "Usage: grep [OPTION]... PATTERN [FILE]...\n",
      "Try 'grep --help' for more information.\n"
     ]
    }
   ],
   "source": [
    "!grep"
   ]
  },
  {
   "cell_type": "code",
   "execution_count": 1,
   "metadata": {},
   "outputs": [
    {
     "name": "stdout",
     "output_type": "stream",
     "text": [
      "Basic Types In Python & Strings.ipynb\n",
      "Break, Continue and Pass.ipynb\n",
      "BuiltInFunction.ipynb\n",
      "Dictionary.ipynb\n",
      "First Class Function.ipynb\n",
      "For loops.ipynb\n",
      "Function HandsOn.ipynb\n",
      "IfElse.ipynb\n",
      "Importing Modules.ipynb\n",
      "List.ipynb\n",
      "Logic Operation.ipynb\n",
      "Numpy.ipynb\n",
      "Panda and command line process.ipynb\n",
      "SimpleExpressions.ipynb\n",
      "Tuples.ipynb\n",
      "Variables.ipynb\n",
      "While Loop.ipynb\n"
     ]
    }
   ],
   "source": [
    "!ls"
   ]
  },
  {
   "cell_type": "code",
   "execution_count": 3,
   "metadata": {},
   "outputs": [],
   "source": [
    "#subprocesses - if you want to be able to run other processes on your shell and then capture the output\n",
    "#you can use the subprocess model\n",
    "\n",
    "import subprocess"
   ]
  },
  {
   "cell_type": "code",
   "execution_count": 4,
   "metadata": {},
   "outputs": [
    {
     "data": {
      "text/plain": [
       "0"
      ]
     },
     "execution_count": 4,
     "metadata": {},
     "output_type": "execute_result"
    }
   ],
   "source": [
    "# this will not return any output\n",
    "\n",
    "subprocess.call([\"ls\",\"-l\"])"
   ]
  },
  {
   "cell_type": "code",
   "execution_count": 6,
   "metadata": {},
   "outputs": [
    {
     "name": "stdout",
     "output_type": "stream",
     "text": [
      "b'total 164\\n-rw-r--r-- 1 HP None  4128 Mar  8 20:13 Basic Types In Python & Strings.ipynb\\n-rw-r--r-- 1 HP None  4213 Mar  9 17:06 Break, Continue and Pass.ipynb\\n-rw-r--r-- 1 HP None 12315 Mar  8 20:45 BuiltInFunction.ipynb\\n-rw-r--r-- 1 HP None  5536 Mar  9 10:39 Dictionary.ipynb\\n-rw-r--r-- 1 HP None  4937 Mar  9 19:58 First Class Function.ipynb\\n-rw-r--r-- 1 HP None  6074 Mar  9 10:27 For loops.ipynb\\n-rw-r--r-- 1 HP None 12861 Mar  9 19:29 Function HandsOn.ipynb\\n-rw-r--r-- 1 HP None  1721 Mar  9 08:01 IfElse.ipynb\\n-rw-r--r-- 1 HP None  4165 Mar  9 20:05 Importing Modules.ipynb\\n-rw-r--r-- 1 HP None 12321 Mar  9 07:16 List.ipynb\\n-rw-r--r-- 1 HP None  6244 Mar  8 19:02 Logic Operation.ipynb\\n-rw-r--r-- 1 HP None  6513 Mar  9 21:49 Numpy.ipynb\\n-rw-r--r-- 1 HP None 23476 Mar 11 10:44 Panda and command line process.ipynb\\n-rw-r--r-- 1 HP None  7402 Mar  8 18:54 SimpleExpressions.ipynb\\n-rw-r--r-- 1 HP None  4588 Mar  9 07:25 Tuples.ipynb\\n-rw-r--r-- 1 HP None  3011 Mar  8 19:55 Variables.ipynb\\n-rw-r--r-- 1 HP None  2803 Mar  9 11:08 While Loop.ipynb\\n'\n"
     ]
    }
   ],
   "source": [
    "#here check_output will process your output and store the shell output into the variable\n",
    "output = subprocess.check_output(['ls','-l'])\n",
    "\n",
    "print(output)"
   ]
  },
  {
   "cell_type": "code",
   "execution_count": 8,
   "metadata": {},
   "outputs": [
    {
     "ename": "NameError",
     "evalue": "name 'stdout' is not defined",
     "output_type": "error",
     "traceback": [
      "\u001b[1;31m---------------------------------------------------------------------------\u001b[0m",
      "\u001b[1;31mNameError\u001b[0m                                 Traceback (most recent call last)",
      "\u001b[1;32m<ipython-input-8-f9b7400a4fbd>\u001b[0m in \u001b[0;36m<module>\u001b[1;34m\u001b[0m\n\u001b[1;32m----> 1\u001b[1;33m \u001b[0mstdout\u001b[0m\u001b[1;33m\u001b[0m\u001b[1;33m\u001b[0m\u001b[0m\n\u001b[0m",
      "\u001b[1;31mNameError\u001b[0m: name 'stdout' is not defined"
     ]
    }
   ],
   "source": [
    "stdout"
   ]
  },
  {
   "cell_type": "code",
   "execution_count": 9,
   "metadata": {},
   "outputs": [
    {
     "ename": "NameError",
     "evalue": "name 'stderr' is not defined",
     "output_type": "error",
     "traceback": [
      "\u001b[1;31m---------------------------------------------------------------------------\u001b[0m",
      "\u001b[1;31mNameError\u001b[0m                                 Traceback (most recent call last)",
      "\u001b[1;32m<ipython-input-9-707695d7e98e>\u001b[0m in \u001b[0;36m<module>\u001b[1;34m\u001b[0m\n\u001b[1;32m----> 1\u001b[1;33m \u001b[0mstderr\u001b[0m\u001b[1;33m\u001b[0m\u001b[1;33m\u001b[0m\u001b[0m\n\u001b[0m",
      "\u001b[1;31mNameError\u001b[0m: name 'stderr' is not defined"
     ]
    }
   ],
   "source": [
    "stderr"
   ]
  },
  {
   "cell_type": "code",
   "execution_count": null,
   "metadata": {},
   "outputs": [],
   "source": []
  }
 ],
 "metadata": {
  "kernelspec": {
   "display_name": "Python 3",
   "language": "python",
   "name": "python3"
  },
  "language_info": {
   "codemirror_mode": {
    "name": "ipython",
    "version": 3
   },
   "file_extension": ".py",
   "mimetype": "text/x-python",
   "name": "python",
   "nbconvert_exporter": "python",
   "pygments_lexer": "ipython3",
   "version": "3.8.5"
  }
 },
 "nbformat": 4,
 "nbformat_minor": 4
}
